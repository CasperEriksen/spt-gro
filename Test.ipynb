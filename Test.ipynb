{
 "cells": [
  {
   "cell_type": "markdown",
   "metadata": {},
   "source": [
    "# How main works"
   ]
  },
  {
   "cell_type": "code",
   "execution_count": 331,
   "metadata": {
    "collapsed": true
   },
   "outputs": [],
   "source": [
    "import os\n",
    "import sys\n",
    "import dictionary; reload(dictionary)\n",
    "import argparse\n",
    "from ordbog import print_results, dictionaries"
   ]
  },
  {
   "cell_type": "markdown",
   "metadata": {},
   "source": [
    "The 'dictionaries' we have imported is a dictionary taking as key a short-hand name of a language (fx en for English). The corresponding value is another dictionary with some data."
   ]
  },
  {
   "cell_type": "code",
   "execution_count": 322,
   "metadata": {
    "collapsed": false
   },
   "outputs": [
    {
     "data": {
      "text/plain": [
       "OrderedDict([('en',\n",
       "              {'datfile': 'data/EngelskOrdbog.dat',\n",
       "               'doubflag': 3,\n",
       "               'gddfile': 'data/EngelskOrdbog.gdd',\n",
       "               'name': 'Engelsk'}),\n",
       "             ('de',\n",
       "              {'datfile': 'data/TyskOrdbog.dat',\n",
       "               'doubflag': 3,\n",
       "               'gddfile': 'data/TyskOrdbog.gdd',\n",
       "               'name': 'Tysk'}),\n",
       "             ('fr',\n",
       "              {'datfile': 'data/FranskOrdbog.dat',\n",
       "               'doubflag': 3,\n",
       "               'gddfile': 'data/FranskOrdbog.gdd',\n",
       "               'name': 'Fransk'}),\n",
       "             ('se',\n",
       "              {'datfile': 'data/SvenskOrdbog.dat',\n",
       "               'doubflag': 3,\n",
       "               'gddfile': 'data/SvenskOrdbog.gdd',\n",
       "               'name': 'Svensk'}),\n",
       "             ('no',\n",
       "              {'datfile': 'data/NorskDownload.dat',\n",
       "               'doubflag': 2,\n",
       "               'gddfile': 'data/NorskDownload.gdd',\n",
       "               'name': 'Norsk'}),\n",
       "             ('enfag',\n",
       "              {'datfile': 'data/FagordbogEngelskDownload.dat',\n",
       "               'doubflag': 2,\n",
       "               'gddfile': 'data/FagordbogEngelskDownload.gdd',\n",
       "               'name': 'Engelsk (Fag/Teknik)'}),\n",
       "             ('daen',\n",
       "              {'datfile': 'data/StorDanskEngelskDownload.dat',\n",
       "               'doubflag': 0,\n",
       "               'gddfile': 'data/StorDanskEngelskDownload.gdd',\n",
       "               'name': 'Stor Dansk-Engelsk'}),\n",
       "             ('enda',\n",
       "              {'datfile': 'data/StorEngelskDanskDownload.dat',\n",
       "               'doubflag': 0,\n",
       "               'gddfile': 'data/StorEngelskDanskDownload.gdd',\n",
       "               'name': 'Stor Engelsk-Dansk'}),\n",
       "             ('da',\n",
       "              {'datfile': 'data/DanskDownload.dat',\n",
       "               'doubflag': 0,\n",
       "               'gddfile': 'data/DanskDownload.gdd',\n",
       "               'name': 'Dansk'})])"
      ]
     },
     "execution_count": 322,
     "metadata": {},
     "output_type": "execute_result"
    }
   ],
   "source": [
    "dictionaries"
   ]
  },
  {
   "cell_type": "markdown",
   "metadata": {},
   "source": [
    "To look up a word, we must provide three variables. First, the language (shortened form). Second, whether we want to translate from Danish (0), to Danish (1) or both ways (2). Not all three options are possible for all the dictionaries. The 'doubflag' variable provides this info. Lastly, we need to give a list of the search terms we want to look up."
   ]
  },
  {
   "cell_type": "code",
   "execution_count": 323,
   "metadata": {
    "collapsed": true
   },
   "outputs": [],
   "source": [
    "language = 'en'\n",
    "translate = 2\n",
    "search_terms = ['fundere']"
   ]
  },
  {
   "cell_type": "markdown",
   "metadata": {},
   "source": [
    "We can translate the shortened language name to the full one"
   ]
  },
  {
   "cell_type": "code",
   "execution_count": 34,
   "metadata": {
    "collapsed": false
   },
   "outputs": [
    {
     "name": "stdout",
     "output_type": "stream",
     "text": [
      "Engelsk\n"
     ]
    }
   ],
   "source": [
    "language_name = dictionaries[language]['name']\n",
    "print(language_name)"
   ]
  },
  {
   "cell_type": "markdown",
   "metadata": {},
   "source": [
    "We also keep a list of the translation direcitons"
   ]
  },
  {
   "cell_type": "code",
   "execution_count": 37,
   "metadata": {
    "collapsed": false
   },
   "outputs": [
    {
     "name": "stdout",
     "output_type": "stream",
     "text": [
      "[('fromDanish', 'Dansk-Engelsk'), ('toDanish', 'Engelsk-Dansk')]\n"
     ]
    }
   ],
   "source": [
    "directions = [('fromDanish', 'Dansk-%s' % language_name), ('toDanish', '%s-Dansk' % language_name)]\n",
    "\n",
    "if dictionaries[language]['doubflag'] < 2 or translate == 0:\n",
    "    del directions[1]\n",
    "elif translate == 1:\n",
    "    del directions[0]\n",
    "print(directions)"
   ]
  },
  {
   "cell_type": "markdown",
   "metadata": {},
   "source": [
    "And a list of the type of lookups we want"
   ]
  },
  {
   "cell_type": "code",
   "execution_count": 38,
   "metadata": {
    "collapsed": false
   },
   "outputs": [
    {
     "name": "stdout",
     "output_type": "stream",
     "text": [
      "[('lookup', 'Opslagsord'), ('collocation_lookup', 'Ordforbindelser'), ('reverse', 'Resultater')]\n"
     ]
    }
   ],
   "source": [
    "tables = [('lookup', 'Opslagsord'), ('collocation_lookup', 'Ordforbindelser')]\n",
    "if dictionaries[language]['doubflag'] == 1  or dictionaries[language]['doubflag'] == 3:\n",
    "    tables.append(('reverse', 'Resultater'))\n",
    "print(tables)"
   ]
  },
  {
   "cell_type": "markdown",
   "metadata": {},
   "source": [
    "Next we initialise a dictionary instance"
   ]
  },
  {
   "cell_type": "code",
   "execution_count": 332,
   "metadata": {
    "collapsed": false
   },
   "outputs": [],
   "source": [
    "dic = dictionary.Dictionary(dictionaries)"
   ]
  },
  {
   "cell_type": "code",
   "execution_count": 333,
   "metadata": {
    "collapsed": false
   },
   "outputs": [
    {
     "data": {
      "text/plain": [
       "{u'spade', u'spand', u'speed'}"
      ]
     },
     "execution_count": 333,
     "metadata": {},
     "output_type": "execute_result"
    }
   ],
   "source": [
    "dic.spell_suggestions('spaed', True, 'lookup', 'en')"
   ]
  },
  {
   "cell_type": "markdown",
   "metadata": {},
   "source": [
    "And use it to look up our search terms"
   ]
  },
  {
   "cell_type": "code",
   "execution_count": 41,
   "metadata": {
    "collapsed": true
   },
   "outputs": [],
   "source": [
    "search_results = dic.lookup(search_terms, language)"
   ]
  },
  {
   "cell_type": "markdown",
   "metadata": {},
   "source": [
    "The result is the following, not easily readable dictionary"
   ]
  },
  {
   "cell_type": "code",
   "execution_count": 42,
   "metadata": {
    "collapsed": false
   },
   "outputs": [
    {
     "data": {
      "text/plain": [
       "{'fromDanish': {'collocation_lookup': ['<div></div><h3>fundere over</h3><div>(gruble)</div><div>ponder on</div> ',\n",
       "   '<div></div><h3>fundere p\\xc3\\xa5</h3><div>(basere)</div><div>base on</div> ',\n",
       "   '<div></div><h3>d\\xc3\\xa5rligt funderet i historie</h3><div>poorly read in history</div> '],\n",
       "  'lookup': ['<div><h2>fundere <font color=\"#605A50\"><i>vb. </i></font></h2><div>(funderer; funderede; funderet)</div></div><h3>fundere<font color=\"#888888\"> <i>vb.</i></font></h3><ol><li><div>(gruble)</div><div>ponder</div></li><li><div>(basere)</div><div>found</div><div>base</div></li></ol> '],\n",
       "  'reverse': ['<div><h2>muse <font color=\"#605A50\"><i>vb. </i></font></h2><div>[mju:z] <a href=\"sound://10045:m102316\">[LYD]</a></div></div><h3>muse<font color=\"#888888\"> <i>vb.</i></font></h3><div>gruble</div><div>grunde</div><div>fundere</div><div>spekulere</div> ',\n",
       "   '<div><h2>ponder <font color=\"#605A50\"><i>vb. </i></font></h2><div>[\\xcb\\x88p\\xc9\\x94nd\\xc9\\x99] <a href=\"sound://10045:p102461\">[LYD]</a></div></div><h3>ponder<font color=\"#888888\"> <i>vb.</i></font></h3><ol><li><div>overveje</div><div>fundere over</div><div>grunde over</div></li><li><div>(uden objekt)</div><div>overveje</div><div>fundere</div><div>spekulere</div></li></ol> ']},\n",
       " 'toDanish': {'collocation_lookup': [], 'lookup': [], 'reverse': []}}"
      ]
     },
     "execution_count": 42,
     "metadata": {},
     "output_type": "execute_result"
    }
   ],
   "source": [
    "search_results"
   ]
  },
  {
   "cell_type": "markdown",
   "metadata": {},
   "source": [
    "We can use our print function to make the result more readable"
   ]
  },
  {
   "cell_type": "code",
   "execution_count": 43,
   "metadata": {
    "collapsed": false
   },
   "outputs": [
    {
     "name": "stdout",
     "output_type": "stream",
     "text": [
      "\n",
      "\n",
      "\u001b[107m\u001b[1m\u001b[30mOpslagsord fra Dansk-Engelsk\u001b[0m\u001b[0m\u001b[0m\n",
      "\n",
      "\n",
      "\u001b[34mfundere \u001b[0m\u001b[2m\u001b[3mvb. \u001b[0m\u001b[0m\u001b[2m(funderer; funderede; funderet)\u001b[0m\n",
      "1. \u001b[2m(gruble)\u001b[0m ponder\n",
      "2. \u001b[2m(basere)\u001b[0m found; base\n",
      "\n",
      "\n",
      "\n",
      "\u001b[107m\u001b[1m\u001b[30mOrdforbindelser fra Dansk-Engelsk\u001b[0m\u001b[0m\u001b[0m\n",
      "\n",
      "\n",
      "\u001b[34mfundere over \u001b[0m\u001b[2m(gruble)\u001b[0m ponder on\n",
      "\n",
      "\u001b[34mfundere på \u001b[0m\u001b[2m(basere)\u001b[0m base on\n",
      "\n",
      "\u001b[34mdårligt funderet i historie \u001b[0mpoorly read in history\n",
      "\n",
      "\n",
      "\n",
      "\u001b[107m\u001b[1m\u001b[30mResultater fra Engelsk-Dansk\u001b[0m\u001b[0m\u001b[0m\n",
      "\n",
      "\n",
      "\u001b[34mmuse \u001b[0m\u001b[2m\u001b[3mvb. \u001b[0m\u001b[0m\u001b[37m[mju:z]\u001b[0m gruble; grunde; fundere; spekulere\n",
      "\n",
      "\u001b[34mponder \u001b[0m\u001b[2m\u001b[3mvb. \u001b[0m\u001b[0m\u001b[37m[ˈpɔndə]\u001b[0m \n",
      "1. overveje; fundere over; grunde over\n",
      "2. \u001b[2m(uden objekt)\u001b[0m overveje; fundere; spekulere\n",
      "\n"
     ]
    }
   ],
   "source": [
    "print_results(search_results, search_terms, directions, tables, language)"
   ]
  },
  {
   "cell_type": "code",
   "execution_count": null,
   "metadata": {
    "collapsed": true
   },
   "outputs": [],
   "source": []
  },
  {
   "cell_type": "markdown",
   "metadata": {},
   "source": [
    "# Looking up a term"
   ]
  },
  {
   "cell_type": "code",
   "execution_count": 44,
   "metadata": {
    "collapsed": true
   },
   "outputs": [],
   "source": [
    "import sys, os\n",
    "import sqlite3\n",
    "import re\n",
    "from array import array\n",
    "import groparser"
   ]
  },
  {
   "cell_type": "code",
   "execution_count": 45,
   "metadata": {
    "collapsed": true
   },
   "outputs": [],
   "source": [
    "search_terms = ['fundere']"
   ]
  },
  {
   "cell_type": "code",
   "execution_count": 46,
   "metadata": {
    "collapsed": true
   },
   "outputs": [],
   "source": [
    "# make * and . wildcard letters;  strip ' characters to avoid SQL injections\n",
    "search_terms = [s.replace('*', '%').replace('\\'', ' ').replace('.', '%')\n",
    "                for s in search_terms]"
   ]
  },
  {
   "cell_type": "code",
   "execution_count": 47,
   "metadata": {
    "collapsed": false
   },
   "outputs": [
    {
     "data": {
      "text/plain": [
       "['fundere']"
      ]
     },
     "execution_count": 47,
     "metadata": {},
     "output_type": "execute_result"
    }
   ],
   "source": [
    "search_terms"
   ]
  },
  {
   "cell_type": "code",
   "execution_count": 50,
   "metadata": {
    "collapsed": false
   },
   "outputs": [],
   "source": [
    "# open data files\n",
    "db_path = dictionaries[language]['gddfile']\n",
    "dat_path = dictionaries[language]['datfile']\n",
    "dat_file = open(dat_path, 'rb')\n",
    "db = sqlite3.connect(db_path)"
   ]
  },
  {
   "cell_type": "code",
   "execution_count": 66,
   "metadata": {
    "collapsed": false
   },
   "outputs": [
    {
     "data": {
      "text/plain": [
       "['entry_id_', 'word_']"
      ]
     },
     "execution_count": 66,
     "metadata": {},
     "output_type": "execute_result"
    }
   ],
   "source": [
    "cursor = db.execute('select * from lookup1')\n",
    "names = [description[0] for description in cursor.description]\n",
    "names"
   ]
  },
  {
   "cell_type": "code",
   "execution_count": 67,
   "metadata": {
    "collapsed": false
   },
   "outputs": [
    {
     "name": "stdout",
     "output_type": "stream",
     "text": [
      "[(u'info',), (u'dict_setup',), (u'sound',), (u'entries1',), (u'entries2',), (u'lookup1',), (u'collocation_lookup1',), (u'reverse1',), (u'lookup2',), (u'collocation_lookup2',), (u'reverse2',)]\n"
     ]
    }
   ],
   "source": [
    "cursor = db.cursor()\n",
    "cursor.execute(\"SELECT name FROM sqlite_master WHERE type='table';\")\n",
    "print(cursor.fetchall())"
   ]
  },
  {
   "cell_type": "code",
   "execution_count": null,
   "metadata": {
    "collapsed": true
   },
   "outputs": [],
   "source": []
  },
  {
   "cell_type": "code",
   "execution_count": 57,
   "metadata": {
    "collapsed": true
   },
   "outputs": [],
   "source": [
    "fromDanish = 1\n",
    "first_term = True\n",
    "table = 'lookup'"
   ]
  },
  {
   "cell_type": "code",
   "execution_count": 58,
   "metadata": {
    "collapsed": false
   },
   "outputs": [],
   "source": [
    "first_term = True\n",
    "for term in search_terms:\n",
    "    rows = list(db.execute('select * from %s%i where word_ like \\'%s\\''\n",
    "                           % (table, fromDanish, term)))\n",
    "    term_entry_ids = [r[0] for r in rows]\n",
    "    if first_term:\n",
    "        first_term = False\n",
    "        entry_ids = term_entry_ids\n",
    "    else:\n",
    "        entry_ids = set(term_entry_ids) & set(entry_ids)"
   ]
  },
  {
   "cell_type": "code",
   "execution_count": 90,
   "metadata": {
    "collapsed": false
   },
   "outputs": [
    {
     "data": {
      "text/plain": [
       "[(23947, u'fundere'),\n",
       " (165705, u'funderer'),\n",
       " (165706, u'funderede'),\n",
       " (165707, u'funderende'),\n",
       " (165708, u'funderendes'),\n",
       " (165709, u'funderet')]"
      ]
     },
     "execution_count": 90,
     "metadata": {},
     "output_type": "execute_result"
    }
   ],
   "source": [
    "list(db.execute(\"select * from lookup1 where word_ like 'funder%'\"))"
   ]
  },
  {
   "cell_type": "code",
   "execution_count": 92,
   "metadata": {
    "collapsed": false
   },
   "outputs": [
    {
     "data": {
      "text/plain": [
       "[(23947, 0, 23947, 6834703, 344)]"
      ]
     },
     "execution_count": 92,
     "metadata": {},
     "output_type": "execute_result"
    }
   ],
   "source": [
    "rows"
   ]
  },
  {
   "cell_type": "markdown",
   "metadata": {},
   "source": [
    "Hmm, virker som dobbeltarbejde at slå op igen? Informationen er jo allerede hentet i rows."
   ]
  },
  {
   "cell_type": "code",
   "execution_count": 68,
   "metadata": {
    "collapsed": true
   },
   "outputs": [],
   "source": [
    "entries = []\n",
    "for entry_id in entry_ids:\n",
    "    rows = list(db.execute('select * from entries%i where id_ = %d'\n",
    "                           % (fromDanish, entry_id)))\n",
    "    for _, entry_type, link_id, offset, nbyte in rows:\n",
    "        entries.append((entry_id, offset, nbyte))"
   ]
  },
  {
   "cell_type": "code",
   "execution_count": 69,
   "metadata": {
    "collapsed": false
   },
   "outputs": [
    {
     "data": {
      "text/plain": [
       "[(23947, 6834703, 344)]"
      ]
     },
     "execution_count": 69,
     "metadata": {},
     "output_type": "execute_result"
    }
   ],
   "source": [
    "entries"
   ]
  },
  {
   "cell_type": "code",
   "execution_count": null,
   "metadata": {
    "collapsed": true
   },
   "outputs": [],
   "source": []
  },
  {
   "cell_type": "code",
   "execution_count": null,
   "metadata": {
    "collapsed": true
   },
   "outputs": [],
   "source": []
  },
  {
   "cell_type": "code",
   "execution_count": 72,
   "metadata": {
    "collapsed": true
   },
   "outputs": [],
   "source": [
    "def extractFromFile(f, offset, nbyte):\n",
    "    f.seek(offset)\n",
    "    data = array('B')\n",
    "    data.fromfile(f, nbyte)\n",
    "    return data"
   ]
  },
  {
   "cell_type": "code",
   "execution_count": 73,
   "metadata": {
    "collapsed": true
   },
   "outputs": [],
   "source": [
    "raw_entries = []\n",
    "for entry_id, offset, nbyte in entries:\n",
    "    data = extractFromFile(dat_file, offset, nbyte)\n",
    "    raw_entry = groparser.parse_entry(data, entry_id, offset, nbyte)\n",
    "    raw_entries.append(raw_entry.split('\\0')[-2])"
   ]
  },
  {
   "cell_type": "code",
   "execution_count": 74,
   "metadata": {
    "collapsed": false
   },
   "outputs": [
    {
     "data": {
      "text/plain": [
       "['<div><h2>fundere <font color=\"#605A50\"><i>vb. </i></font></h2><div>(funderer; funderede; funderet)</div></div><h3>fundere<font color=\"#888888\"> <i>vb.</i></font></h3><ol><li><div>(gruble)</div><div>ponder</div></li><li><div>(basere)</div><div>found</div><div>base</div></li></ol> ']"
      ]
     },
     "execution_count": 74,
     "metadata": {},
     "output_type": "execute_result"
    }
   ],
   "source": [
    "raw_entries"
   ]
  },
  {
   "cell_type": "code",
   "execution_count": 94,
   "metadata": {
    "collapsed": false,
    "scrolled": true
   },
   "outputs": [
    {
     "data": {
      "text/plain": [
       "'\\x00\\x10\\x00\\x14\\x00\\x15\\x00?fundere\\x00vb.\\x00\\x001 (gruble) ponder; 2 (basere) found; base\\x00<div><h2>fundere <font color=\"#605A50\"><i>vb. </i></font></h2><div>(funderer; funderede; funderet)</div></div><h3>fundere<font color=\"#888888\"> <i>vb.</i></font></h3><ol><li><div>(gruble)</div><div>ponder</div></li><li><div>(basere)</div><div>found</div><div>base</div></li></ol> \\x00'"
      ]
     },
     "execution_count": 94,
     "metadata": {},
     "output_type": "execute_result"
    }
   ],
   "source": [
    "raw_entry"
   ]
  },
  {
   "cell_type": "code",
   "execution_count": null,
   "metadata": {
    "collapsed": true
   },
   "outputs": [],
   "source": []
  },
  {
   "cell_type": "code",
   "execution_count": null,
   "metadata": {
    "collapsed": true
   },
   "outputs": [],
   "source": []
  },
  {
   "cell_type": "code",
   "execution_count": null,
   "metadata": {
    "collapsed": true
   },
   "outputs": [],
   "source": []
  },
  {
   "cell_type": "code",
   "execution_count": null,
   "metadata": {
    "collapsed": true
   },
   "outputs": [],
   "source": []
  },
  {
   "cell_type": "code",
   "execution_count": null,
   "metadata": {
    "collapsed": true
   },
   "outputs": [],
   "source": []
  },
  {
   "cell_type": "code",
   "execution_count": null,
   "metadata": {
    "collapsed": true
   },
   "outputs": [],
   "source": []
  },
  {
   "cell_type": "code",
   "execution_count": null,
   "metadata": {
    "collapsed": true
   },
   "outputs": [],
   "source": []
  },
  {
   "cell_type": "code",
   "execution_count": null,
   "metadata": {
    "collapsed": true
   },
   "outputs": [],
   "source": []
  },
  {
   "cell_type": "markdown",
   "metadata": {},
   "source": [
    "# Spelling Corrector"
   ]
  },
  {
   "cell_type": "code",
   "execution_count": 156,
   "metadata": {
    "collapsed": false
   },
   "outputs": [],
   "source": [
    "import re\n",
    "from collections import Counter\n",
    "\n",
    "def words(text): return re.findall(r'\\w+', text.lower())\n",
    "\n",
    "#WORDS = Counter(words(open('big.txt').read()))\n",
    "\n",
    "#def P(word, N=sum(WORDS.values())): \n",
    "#    \"Probability of `word`.\"\n",
    "#    return WORDS[word] / N\n",
    "\n",
    "def correction(word): \n",
    "    \"Most probable spelling correction for word.\"\n",
    "    return max(candidates(word), key=P)\n",
    "\n",
    "def candidates(word): \n",
    "    \"Generate possible spelling corrections for word.\"\n",
    "    return (known([word]) or known(edits1(word)) or [word] or known(edits2(word)) )\n",
    "\n",
    "def known1(term):\n",
    "    return bool(list(db.execute(\"select * from lookup1 where word_ like '%s'\" % term)))\n",
    "\n",
    "def known(terms):\n",
    "    return set(t for t in terms if known1(t))\n",
    "\n",
    "def known_old(words): \n",
    "    \"The subset of `words` that appear in the dictionary of WORDS.\"\n",
    "    return set(w for w in words if w in WORDS)\n",
    "\n",
    "def edits1(word):\n",
    "    \"All edits that are one edit away from `word`.\"\n",
    "    letters    = 'abcdefghijklmnopqrstuvwxyzæøå'\n",
    "    splits     = [(word[:i], word[i:])    for i in range(len(word) + 1)]\n",
    "    deletes    = [L + R[1:]               for L, R in splits if R]\n",
    "    transposes = [L + R[1] + R[0] + R[2:] for L, R in splits if len(R)>1]\n",
    "    replaces   = [L + c + R[1:]           for L, R in splits if R for c in letters]\n",
    "    inserts    = [L + c + R               for L, R in splits for c in letters]\n",
    "    return set(deletes + transposes + replaces + inserts)\n",
    "\n",
    "def edits2(word): \n",
    "    \"All edits that are two edits away from `word`.\"\n",
    "    return (e2 for e1 in edits1(word) for e2 in edits1(e1))"
   ]
  },
  {
   "cell_type": "code",
   "execution_count": 157,
   "metadata": {
    "collapsed": true
   },
   "outputs": [],
   "source": [
    "word = 'blp'"
   ]
  },
  {
   "cell_type": "code",
   "execution_count": 169,
   "metadata": {
    "collapsed": false
   },
   "outputs": [
    {
     "data": {
      "text/plain": [
       "{'bap', 'bip', 'bl', 'bla', 'ble', 'blu', 'bly', 'bnp'}"
      ]
     },
     "execution_count": 169,
     "metadata": {},
     "output_type": "execute_result"
    }
   ],
   "source": [
    "candidates(word)"
   ]
  },
  {
   "cell_type": "code",
   "execution_count": 159,
   "metadata": {
    "collapsed": false,
    "scrolled": true
   },
   "outputs": [
    {
     "data": {
      "text/plain": [
       "{'ablp',\n",
       " 'alp',\n",
       " 'balp',\n",
       " 'bap',\n",
       " 'bblp',\n",
       " 'bbp',\n",
       " 'bclp',\n",
       " 'bcp',\n",
       " 'bdlp',\n",
       " 'bdp',\n",
       " 'belp',\n",
       " 'bep',\n",
       " 'bflp',\n",
       " 'bfp',\n",
       " 'bglp',\n",
       " 'bgp',\n",
       " 'bhlp',\n",
       " 'bhp',\n",
       " 'bilp',\n",
       " 'bip',\n",
       " 'bjlp',\n",
       " 'bjp',\n",
       " 'bklp',\n",
       " 'bkp',\n",
       " 'bl',\n",
       " 'bla',\n",
       " 'blap',\n",
       " 'blb',\n",
       " 'blbp',\n",
       " 'blc',\n",
       " 'blcp',\n",
       " 'bld',\n",
       " 'bldp',\n",
       " 'ble',\n",
       " 'blep',\n",
       " 'blf',\n",
       " 'blfp',\n",
       " 'blg',\n",
       " 'blgp',\n",
       " 'blh',\n",
       " 'blhp',\n",
       " 'bli',\n",
       " 'blip',\n",
       " 'blj',\n",
       " 'bljp',\n",
       " 'blk',\n",
       " 'blkp',\n",
       " 'bll',\n",
       " 'bllp',\n",
       " 'blm',\n",
       " 'blmp',\n",
       " 'bln',\n",
       " 'blnp',\n",
       " 'blo',\n",
       " 'blop',\n",
       " 'blp',\n",
       " 'blpa',\n",
       " 'blpb',\n",
       " 'blpc',\n",
       " 'blpd',\n",
       " 'blpe',\n",
       " 'blpf',\n",
       " 'blpg',\n",
       " 'blph',\n",
       " 'blpi',\n",
       " 'blpj',\n",
       " 'blpk',\n",
       " 'blpl',\n",
       " 'blpm',\n",
       " 'blpn',\n",
       " 'blpo',\n",
       " 'blpp',\n",
       " 'blpq',\n",
       " 'blpr',\n",
       " 'blps',\n",
       " 'blpt',\n",
       " 'blpu',\n",
       " 'blpv',\n",
       " 'blpw',\n",
       " 'blpx',\n",
       " 'blpy',\n",
       " 'blpz',\n",
       " 'blp\\xa5',\n",
       " 'blp\\xa6',\n",
       " 'blp\\xb8',\n",
       " 'blp\\xc3',\n",
       " 'blq',\n",
       " 'blqp',\n",
       " 'blr',\n",
       " 'blrp',\n",
       " 'bls',\n",
       " 'blsp',\n",
       " 'blt',\n",
       " 'bltp',\n",
       " 'blu',\n",
       " 'blup',\n",
       " 'blv',\n",
       " 'blvp',\n",
       " 'blw',\n",
       " 'blwp',\n",
       " 'blx',\n",
       " 'blxp',\n",
       " 'bly',\n",
       " 'blyp',\n",
       " 'blz',\n",
       " 'blzp',\n",
       " 'bl\\xa5',\n",
       " 'bl\\xa5p',\n",
       " 'bl\\xa6',\n",
       " 'bl\\xa6p',\n",
       " 'bl\\xb8',\n",
       " 'bl\\xb8p',\n",
       " 'bl\\xc3',\n",
       " 'bl\\xc3p',\n",
       " 'bmlp',\n",
       " 'bmp',\n",
       " 'bnlp',\n",
       " 'bnp',\n",
       " 'bolp',\n",
       " 'bop',\n",
       " 'bp',\n",
       " 'bpl',\n",
       " 'bplp',\n",
       " 'bpp',\n",
       " 'bqlp',\n",
       " 'bqp',\n",
       " 'brlp',\n",
       " 'brp',\n",
       " 'bslp',\n",
       " 'bsp',\n",
       " 'btlp',\n",
       " 'btp',\n",
       " 'bulp',\n",
       " 'bup',\n",
       " 'bvlp',\n",
       " 'bvp',\n",
       " 'bwlp',\n",
       " 'bwp',\n",
       " 'bxlp',\n",
       " 'bxp',\n",
       " 'bylp',\n",
       " 'byp',\n",
       " 'bzlp',\n",
       " 'bzp',\n",
       " 'b\\xa5lp',\n",
       " 'b\\xa5p',\n",
       " 'b\\xa6lp',\n",
       " 'b\\xa6p',\n",
       " 'b\\xb8lp',\n",
       " 'b\\xb8p',\n",
       " 'b\\xc3lp',\n",
       " 'b\\xc3p',\n",
       " 'cblp',\n",
       " 'clp',\n",
       " 'dblp',\n",
       " 'dlp',\n",
       " 'eblp',\n",
       " 'elp',\n",
       " 'fblp',\n",
       " 'flp',\n",
       " 'gblp',\n",
       " 'glp',\n",
       " 'hblp',\n",
       " 'hlp',\n",
       " 'iblp',\n",
       " 'ilp',\n",
       " 'jblp',\n",
       " 'jlp',\n",
       " 'kblp',\n",
       " 'klp',\n",
       " 'lblp',\n",
       " 'lbp',\n",
       " 'llp',\n",
       " 'lp',\n",
       " 'mblp',\n",
       " 'mlp',\n",
       " 'nblp',\n",
       " 'nlp',\n",
       " 'oblp',\n",
       " 'olp',\n",
       " 'pblp',\n",
       " 'plp',\n",
       " 'qblp',\n",
       " 'qlp',\n",
       " 'rblp',\n",
       " 'rlp',\n",
       " 'sblp',\n",
       " 'slp',\n",
       " 'tblp',\n",
       " 'tlp',\n",
       " 'ublp',\n",
       " 'ulp',\n",
       " 'vblp',\n",
       " 'vlp',\n",
       " 'wblp',\n",
       " 'wlp',\n",
       " 'xblp',\n",
       " 'xlp',\n",
       " 'yblp',\n",
       " 'ylp',\n",
       " 'zblp',\n",
       " 'zlp',\n",
       " '\\xa5blp',\n",
       " '\\xa5lp',\n",
       " '\\xa6blp',\n",
       " '\\xa6lp',\n",
       " '\\xb8blp',\n",
       " '\\xb8lp',\n",
       " '\\xc3blp',\n",
       " '\\xc3lp'}"
      ]
     },
     "execution_count": 159,
     "metadata": {},
     "output_type": "execute_result"
    }
   ],
   "source": [
    "edits1(word)"
   ]
  },
  {
   "cell_type": "code",
   "execution_count": 219,
   "metadata": {
    "collapsed": false
   },
   "outputs": [
    {
     "data": {
      "text/plain": [
       "[(4914, u'bap'),\n",
       " (7795, u'bip'),\n",
       " (7968, u'bla'),\n",
       " (8077, u'ble'),\n",
       " (8507, u'blu'),\n",
       " (8537, u'bly'),\n",
       " (8539, u'bly'),\n",
       " (8693, u'bl\\xe5'),\n",
       " (8736, u'bnp')]"
      ]
     },
     "execution_count": 219,
     "metadata": {},
     "output_type": "execute_result"
    }
   ],
   "source": [
    "list(db.execute(\"SELECT * FROM lookup1 WHERE word_ LIKE '_lp' or word_ LIKE 'b_p' or word_ LIKE 'bl_' or word_ LIKE '_blp' or word_ LIKE 'b_lp' or word_ LIKE 'bl_p'\"))"
   ]
  },
  {
   "cell_type": "code",
   "execution_count": 334,
   "metadata": {
    "collapsed": false
   },
   "outputs": [
    {
     "data": {
      "text/plain": [
       "[('fromDanish', 'Dansk-Engelsk'), ('toDanish', 'Engelsk-Dansk')]"
      ]
     },
     "execution_count": 334,
     "metadata": {},
     "output_type": "execute_result"
    }
   ],
   "source": [
    "directions"
   ]
  },
  {
   "cell_type": "code",
   "execution_count": 173,
   "metadata": {
    "collapsed": false
   },
   "outputs": [],
   "source": [
    "word = \"berete\""
   ]
  },
  {
   "cell_type": "code",
   "execution_count": 175,
   "metadata": {
    "collapsed": true
   },
   "outputs": [],
   "source": [
    "splits = [(word[:i], word[i:])    for i in range(len(word) + 1)]"
   ]
  },
  {
   "cell_type": "code",
   "execution_count": 176,
   "metadata": {
    "collapsed": false
   },
   "outputs": [
    {
     "data": {
      "text/plain": [
       "[('', 'berete'),\n",
       " ('b', 'erete'),\n",
       " ('be', 'rete'),\n",
       " ('ber', 'ete'),\n",
       " ('bere', 'te'),\n",
       " ('beret', 'e'),\n",
       " ('berete', '')]"
      ]
     },
     "execution_count": 176,
     "metadata": {},
     "output_type": "execute_result"
    }
   ],
   "source": [
    "splits"
   ]
  },
  {
   "cell_type": "code",
   "execution_count": 177,
   "metadata": {
    "collapsed": true
   },
   "outputs": [],
   "source": [
    "inserts = [L + '_' + R for L, R in splits]"
   ]
  },
  {
   "cell_type": "code",
   "execution_count": 178,
   "metadata": {
    "collapsed": false
   },
   "outputs": [
    {
     "data": {
      "text/plain": [
       "['_berete', 'b_erete', 'be_rete', 'ber_ete', 'bere_te', 'beret_e', 'berete_']"
      ]
     },
     "execution_count": 178,
     "metadata": {},
     "output_type": "execute_result"
    }
   ],
   "source": [
    "inserts"
   ]
  },
  {
   "cell_type": "code",
   "execution_count": 180,
   "metadata": {
    "collapsed": false
   },
   "outputs": [],
   "source": [
    "replaces = [L + '_' + R[1:] for L, R in splits if R]"
   ]
  },
  {
   "cell_type": "code",
   "execution_count": 181,
   "metadata": {
    "collapsed": false
   },
   "outputs": [
    {
     "data": {
      "text/plain": [
       "['_erete', 'b_rete', 'be_ete', 'ber_te', 'bere_e', 'beret_']"
      ]
     },
     "execution_count": 181,
     "metadata": {},
     "output_type": "execute_result"
    }
   ],
   "source": [
    "replaces"
   ]
  },
  {
   "cell_type": "code",
   "execution_count": 182,
   "metadata": {
    "collapsed": true
   },
   "outputs": [],
   "source": [
    "deletes    = [L + R[1:] for L, R in splits if R]\n",
    "transposes = [L + R[1] + R[0] + R[2:] for L, R in splits if len(R)>1]"
   ]
  },
  {
   "cell_type": "code",
   "execution_count": 183,
   "metadata": {
    "collapsed": false
   },
   "outputs": [
    {
     "data": {
      "text/plain": [
       "['erete', 'brete', 'beete', 'berte', 'beree', 'beret']"
      ]
     },
     "execution_count": 183,
     "metadata": {},
     "output_type": "execute_result"
    }
   ],
   "source": [
    "deletes"
   ]
  },
  {
   "cell_type": "code",
   "execution_count": 184,
   "metadata": {
    "collapsed": false
   },
   "outputs": [
    {
     "data": {
      "text/plain": [
       "['ebrete', 'breete', 'beerte', 'bertee', 'bereet']"
      ]
     },
     "execution_count": 184,
     "metadata": {},
     "output_type": "execute_result"
    }
   ],
   "source": [
    "transposes"
   ]
  },
  {
   "cell_type": "code",
   "execution_count": 189,
   "metadata": {
    "collapsed": false
   },
   "outputs": [
    {
     "data": {
      "text/plain": [
       "'word_ LIKE _berete OR word_ LIKE b_erete OR word_ LIKE be_rete OR word_ LIKE ber_ete OR word_ LIKE bere_te OR word_ LIKE beret_e OR word_ LIKE berete_'"
      ]
     },
     "execution_count": 189,
     "metadata": {},
     "output_type": "execute_result"
    }
   ],
   "source": [
    "' OR '.join(['word_ LIKE ' + w for w in inserts])"
   ]
  },
  {
   "cell_type": "code",
   "execution_count": 193,
   "metadata": {
    "collapsed": true
   },
   "outputs": [],
   "source": [
    "def edits1(word):\n",
    "    \"All edits that are one edit away from `word`.\"\n",
    "    splits     = [(word[:i], word[i:])    for i in range(len(word) + 1)]\n",
    "    deletes    = [L + R[1:]               for L, R in splits if R]\n",
    "    transposes = [L + R[1] + R[0] + R[2:] for L, R in splits if len(R)>1]\n",
    "    replaces   = [L + '_' + R[1:]           for L, R in splits if R]\n",
    "    inserts    = [L + '_' + R               for L, R in splits]\n",
    "    return set(deletes + transposes + replaces + inserts)"
   ]
  },
  {
   "cell_type": "code",
   "execution_count": 194,
   "metadata": {
    "collapsed": false
   },
   "outputs": [
    {
     "data": {
      "text/plain": [
       "{'_berete',\n",
       " '_erete',\n",
       " 'b_erete',\n",
       " 'b_rete',\n",
       " 'be_ete',\n",
       " 'be_rete',\n",
       " 'beerte',\n",
       " 'beete',\n",
       " 'ber_ete',\n",
       " 'ber_te',\n",
       " 'bere_e',\n",
       " 'bere_te',\n",
       " 'beree',\n",
       " 'bereet',\n",
       " 'beret',\n",
       " 'beret_',\n",
       " 'beret_e',\n",
       " 'berete_',\n",
       " 'berte',\n",
       " 'bertee',\n",
       " 'breete',\n",
       " 'brete',\n",
       " 'ebrete',\n",
       " 'erete'}"
      ]
     },
     "execution_count": 194,
     "metadata": {},
     "output_type": "execute_result"
    }
   ],
   "source": [
    "edits1(word)"
   ]
  },
  {
   "cell_type": "code",
   "execution_count": null,
   "metadata": {
    "collapsed": true
   },
   "outputs": [],
   "source": []
  },
  {
   "cell_type": "code",
   "execution_count": 312,
   "metadata": {
    "collapsed": true
   },
   "outputs": [],
   "source": [
    "word = \"dearthh\""
   ]
  },
  {
   "cell_type": "code",
   "execution_count": 313,
   "metadata": {
    "collapsed": false
   },
   "outputs": [],
   "source": [
    "ss1 = \" OR \".join([\"word_ LIKE '%s'\" % w for w in edits1(word)])"
   ]
  },
  {
   "cell_type": "code",
   "execution_count": 318,
   "metadata": {
    "collapsed": false
   },
   "outputs": [
    {
     "data": {
      "text/plain": [
       "[]"
      ]
     },
     "execution_count": 318,
     "metadata": {},
     "output_type": "execute_result"
    }
   ],
   "source": [
    "list(db.execute(\"SELECT * FROM reverse2 WHERE \" + ss1))"
   ]
  },
  {
   "cell_type": "code",
   "execution_count": 302,
   "metadata": {
    "collapsed": false
   },
   "outputs": [],
   "source": [
    "suggestions = set(w for _,w in list(db.execute(\"SELECT * FROM lookup2 WHERE \" + ss1)))"
   ]
  },
  {
   "cell_type": "code",
   "execution_count": 303,
   "metadata": {
    "collapsed": false
   },
   "outputs": [
    {
     "data": {
      "text/plain": [
       "{u'definitely'}"
      ]
     },
     "execution_count": 303,
     "metadata": {},
     "output_type": "execute_result"
    }
   ],
   "source": [
    "suggestions"
   ]
  },
  {
   "cell_type": "code",
   "execution_count": 298,
   "metadata": {
    "collapsed": false
   },
   "outputs": [
    {
     "data": {
      "text/plain": [
       "'lookup'"
      ]
     },
     "execution_count": 298,
     "metadata": {},
     "output_type": "execute_result"
    }
   ],
   "source": [
    "table"
   ]
  },
  {
   "cell_type": "code",
   "execution_count": 319,
   "metadata": {
    "collapsed": false
   },
   "outputs": [
    {
     "data": {
      "text/plain": [
       "[('lookup', 'Opslagsord'),\n",
       " ('collocation_lookup', 'Ordforbindelser'),\n",
       " ('reverse', 'Resultater')]"
      ]
     },
     "execution_count": 319,
     "metadata": {},
     "output_type": "execute_result"
    }
   ],
   "source": [
    "tables"
   ]
  },
  {
   "cell_type": "code",
   "execution_count": 320,
   "metadata": {
    "collapsed": false
   },
   "outputs": [
    {
     "data": {
      "text/plain": [
       "[('fromDanish', 'Dansk-Engelsk'), ('toDanish', 'Engelsk-Dansk')]"
      ]
     },
     "execution_count": 320,
     "metadata": {},
     "output_type": "execute_result"
    }
   ],
   "source": [
    "directions"
   ]
  },
  {
   "cell_type": "code",
   "execution_count": null,
   "metadata": {
    "collapsed": true
   },
   "outputs": [],
   "source": []
  },
  {
   "cell_type": "code",
   "execution_count": null,
   "metadata": {
    "collapsed": true
   },
   "outputs": [],
   "source": []
  },
  {
   "cell_type": "code",
   "execution_count": 341,
   "metadata": {
    "collapsed": true
   },
   "outputs": [],
   "source": [
    "\n",
    "def generate_spell_suggestions(dic, word, directions, tables, language):\n",
    "    suggestions = set()\n",
    "    for d, _ in directions:\n",
    "        fromDanish = (d == \"fromDanish\")\n",
    "        for t, _ in tables:\n",
    "            suggestions = suggestions.union(dic.spell_suggestions(word, fromDanish, t, language))\n",
    "    return suggestions"
   ]
  },
  {
   "cell_type": "code",
   "execution_count": 344,
   "metadata": {
    "collapsed": false
   },
   "outputs": [
    {
     "data": {
      "text/plain": [
       "{u'spaced', u'spade', u'spand', u'sped', u'speed'}"
      ]
     },
     "execution_count": 344,
     "metadata": {},
     "output_type": "execute_result"
    }
   ],
   "source": [
    "generate_spell_suggestions(dic, \"spaed\", directions, tables[:1], 'en')"
   ]
  },
  {
   "cell_type": "code",
   "execution_count": 336,
   "metadata": {
    "collapsed": false
   },
   "outputs": [
    {
     "data": {
      "text/plain": [
       "[('fromDanish', 'Dansk-Engelsk'), ('toDanish', 'Engelsk-Dansk')]"
      ]
     },
     "execution_count": 336,
     "metadata": {},
     "output_type": "execute_result"
    }
   ],
   "source": [
    "directions"
   ]
  },
  {
   "cell_type": "code",
   "execution_count": 343,
   "metadata": {
    "collapsed": false
   },
   "outputs": [
    {
     "data": {
      "text/plain": [
       "[('lookup', 'Opslagsord')]"
      ]
     },
     "execution_count": 343,
     "metadata": {},
     "output_type": "execute_result"
    }
   ],
   "source": [
    "tables[:1]"
   ]
  },
  {
   "cell_type": "code",
   "execution_count": 346,
   "metadata": {
    "collapsed": false
   },
   "outputs": [
    {
     "data": {
      "text/plain": [
       "[('fromDanish', 'Dansk-Engelsk'), ('toDanish', 'Engelsk-Dansk')]"
      ]
     },
     "execution_count": 346,
     "metadata": {},
     "output_type": "execute_result"
    }
   ],
   "source": [
    "directions"
   ]
  },
  {
   "cell_type": "code",
   "execution_count": null,
   "metadata": {
    "collapsed": true
   },
   "outputs": [],
   "source": []
  },
  {
   "cell_type": "code",
   "execution_count": 351,
   "metadata": {
    "collapsed": false
   },
   "outputs": [],
   "source": [
    "res = dic.lookup(['fdfd'], 'en')"
   ]
  },
  {
   "cell_type": "code",
   "execution_count": 358,
   "metadata": {
    "collapsed": false
   },
   "outputs": [
    {
     "data": {
      "text/plain": [
       "[[], [], []]"
      ]
     },
     "execution_count": 358,
     "metadata": {},
     "output_type": "execute_result"
    }
   ],
   "source": [
    "res.values()[0].values()"
   ]
  },
  {
   "cell_type": "code",
   "execution_count": 374,
   "metadata": {
    "collapsed": false
   },
   "outputs": [
    {
     "data": {
      "text/plain": [
       "True"
      ]
     },
     "execution_count": 374,
     "metadata": {},
     "output_type": "execute_result"
    }
   ],
   "source": [
    "not any([e for f in [d.values() for d in res.values()] for e in f])"
   ]
  },
  {
   "cell_type": "code",
   "execution_count": 369,
   "metadata": {
    "collapsed": false
   },
   "outputs": [
    {
     "data": {
      "text/plain": [
       "True"
      ]
     },
     "execution_count": 369,
     "metadata": {},
     "output_type": "execute_result"
    }
   ],
   "source": [
    "any([[], [], [[],[]]])"
   ]
  },
  {
   "cell_type": "code",
   "execution_count": 377,
   "metadata": {
    "collapsed": false
   },
   "outputs": [
    {
     "data": {
      "text/plain": [
       "False"
      ]
     },
     "execution_count": 377,
     "metadata": {},
     "output_type": "execute_result"
    }
   ],
   "source": [
    "any([any(d.values()) for d in res.values()])"
   ]
  },
  {
   "cell_type": "code",
   "execution_count": null,
   "metadata": {
    "collapsed": true
   },
   "outputs": [],
   "source": []
  }
 ],
 "metadata": {
  "kernelspec": {
   "display_name": "Python 2",
   "language": "python",
   "name": "python2"
  },
  "language_info": {
   "codemirror_mode": {
    "name": "ipython",
    "version": 2
   },
   "file_extension": ".py",
   "mimetype": "text/x-python",
   "name": "python",
   "nbconvert_exporter": "python",
   "pygments_lexer": "ipython2",
   "version": "2.7.12"
  }
 },
 "nbformat": 4,
 "nbformat_minor": 2
}
